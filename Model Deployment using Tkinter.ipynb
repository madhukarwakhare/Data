{
 "cells": [
  {
   "cell_type": "code",
   "execution_count": 1,
   "metadata": {},
   "outputs": [],
   "source": [
    "import tkinter as tk \n",
    "window=tk.Tk()\n",
    "window.title('GUI')\n",
    "#abel=tk.Label(window,text=\"Madhukar Is Best\").pack()\n",
    "greeting = tk.Label(text=\"Hello, Tkinter\", foreground='Red',background='blue'\n",
    "                    ,width=10, height=10)\n",
    "greeting.pack()\n",
    "b1=tk.Button(text='CLick Me',width=15,height=5,bg='black')\n",
    "b1.pack()\n",
    "\n",
    "Name=tk.Label(text=\"Enter Name\")\n",
    "input1=tk.Entry()\n",
    "Name.pack()\n",
    "input1.pack()\n",
    "yourname=input1.get()\n",
    "\n",
    "def handle_keypress(event):\n",
    "    \"\"\"Print the character associated to the key pressed\"\"\"\n",
    "    print(event.char)\n",
    "\n",
    "# Bind keypress event to handle_keypress()\n",
    "window.bind(\"<Key>\", handle_keypress)\n",
    "\n",
    "def handle_click(event):\n",
    "    print('Button clicked')\n",
    "    \n",
    "b1.bind(\"<Button-1>\")\n",
    "\n",
    "window.mainloop()"
   ]
  },
  {
   "cell_type": "raw",
   "metadata": {},
   "source": []
  },
  {
   "cell_type": "code",
   "execution_count": 1,
   "metadata": {},
   "outputs": [
    {
     "name": "stderr",
     "output_type": "stream",
     "text": [
      "C:\\Users\\DDELL\\Anaconda3\\lib\\site-packages\\sklearn\\base.py:324: UserWarning: Trying to unpickle estimator DecisionTreeClassifier from version 0.22.1 when using version 1.0.1. This might lead to breaking code or invalid results. Use at your own risk. For more info please refer to:\n",
      "https://scikit-learn.org/stable/modules/model_persistence.html#security-maintainability-limitations\n",
      "  warnings.warn(\n"
     ]
    }
   ],
   "source": [
    "from tkinter import *\n",
    "import joblib\n",
    "import pickle \n",
    " \n",
    "def predictGender():\n",
    "    weight=int(e1.get())\n",
    "    height=int(e2.get())\n",
    "    loaded_model=joblib.load(open('finalized_model2.pkl','rb'))\n",
    "    prediction=loaded_model.predict([[weight,height]])\n",
    "    myText.set(prediction[0])\n",
    " \n",
    "master = Tk()\n",
    "master.title(\"Gender Prediction using Height and Weight\")\n",
    "myText=StringVar();\n",
    "Label(master, text=\"Enter Weight\").grid(row=0, sticky=W)\n",
    "Label(master, text=\"Enter Height\").grid(row=1, sticky=W)\n",
    "Label(master, text=\"The Gender Of a Person is:\").grid(row=3, sticky=W)\n",
    "result=Label(master, text=\"\", textvariable=myText).grid(row=3,column=1, sticky=W)\n",
    " \n",
    "e1 = Entry(master)\n",
    "e2 = Entry(master)\n",
    " \n",
    "e1.grid(row=0, column=1)\n",
    "e2.grid(row=1, column=1)\n",
    " \n",
    "b = Button(master, text=\"Predict Gender\", command=predictGender)\n",
    "b.grid(row=0, column=2,columnspan=2, rowspan=2,sticky=W+E+N+S, padx=5, pady=5)\n",
    " \n",
    " \n",
    "mainloop()\n",
    " \n",
    " "
   ]
  },
  {
   "cell_type": "code",
   "execution_count": null,
   "metadata": {},
   "outputs": [],
   "source": []
  },
  {
   "cell_type": "code",
   "execution_count": null,
   "metadata": {},
   "outputs": [],
   "source": []
  },
  {
   "cell_type": "code",
   "execution_count": null,
   "metadata": {},
   "outputs": [],
   "source": []
  },
  {
   "cell_type": "code",
   "execution_count": null,
   "metadata": {},
   "outputs": [],
   "source": []
  }
 ],
 "metadata": {
  "kernelspec": {
   "display_name": "Python 3 (ipykernel)",
   "language": "python",
   "name": "python3"
  },
  "language_info": {
   "codemirror_mode": {
    "name": "ipython",
    "version": 3
   },
   "file_extension": ".py",
   "mimetype": "text/x-python",
   "name": "python",
   "nbconvert_exporter": "python",
   "pygments_lexer": "ipython3",
   "version": "3.8.8"
  }
 },
 "nbformat": 4,
 "nbformat_minor": 4
}
